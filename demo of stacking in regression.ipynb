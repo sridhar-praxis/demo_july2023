{
 "cells": [
  {
   "cell_type": "code",
   "execution_count": null,
   "id": "d1c57c58",
   "metadata": {},
   "outputs": [],
   "source": [
    "from sklearn.datasets import load_breast_cancer\n",
    "from sklearn.ensemble import RandomForestClassifier, StackingClassifier\n",
    "from sklearn.linear_model import LogisticRegression\n",
    "from sklearn.svm import SVC\n",
    "from sklearn.model_selection import train_test_split\n",
    "from sklearn.metrics import roc_auc_score\n",
    "\n",
    "# Load the breast cancer dataset\n",
    "X, y = load_breast_cancer(return_X_y=True)\n",
    "\n",
    "# Split the dataset into training set and test set\n",
    "X_train, X_test, y_train, y_test = train_test_split(X, y, test_size=0.2, random_state=42)\n",
    "\n",
    "# Define the base models\n",
    "base_models = [\n",
    "    ('svc', SVC(probability=True)),\n",
    "    ('rf', RandomForestClassifier())\n",
    "]\n",
    "\n",
    "# Initialize Stacking Classifier with the base models and Logistic Regression as final estimator\n",
    "stack_clf = StackingClassifier(estimators=base_models, final_estimator=LogisticRegression())\n",
    "\n",
    "# Fit the model on the training data\n",
    "stack_clf.fit(X_train, y_train)\n",
    "\n",
    "# Make predictions on the training and test data\n",
    "y_train_proba = stack_clf.predict_proba(X_train)[:, 1]\n",
    "y_test_proba = stack_clf.predict_proba(X_test)[:, 1]\n",
    "\n",
    "# Calculate and print the performance metrics\n",
    "train_auc = roc_auc_score(y_train, y_train_proba)\n",
    "test_auc = roc_auc_score(y_test, y_test_proba)\n",
    "\n",
    "print(f'Training AUC: {train_auc:.2f}')\n",
    "print(f'Test AUC: {test_auc:.2f}')\n"
   ]
  }
 ],
 "metadata": {
  "kernelspec": {
   "display_name": "Python 3 (ipykernel)",
   "language": "python",
   "name": "python3"
  },
  "language_info": {
   "codemirror_mode": {
    "name": "ipython",
    "version": 3
   },
   "file_extension": ".py",
   "mimetype": "text/x-python",
   "name": "python",
   "nbconvert_exporter": "python",
   "pygments_lexer": "ipython3",
   "version": "3.10.9"
  }
 },
 "nbformat": 4,
 "nbformat_minor": 5
}
